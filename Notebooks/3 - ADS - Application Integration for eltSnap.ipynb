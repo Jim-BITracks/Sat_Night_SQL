{
    "metadata": {
        "kernelspec": {
            "name": "SQL",
            "display_name": "SQL",
            "language": "sql"
        },
        "language_info": {
            "name": "sql",
            "version": ""
        }
    },
    "nbformat_minor": 2,
    "nbformat": 4,
    "cells": [
        {
            "cell_type": "markdown",
            "source": [
                "# ADS - Application Integration for eltSnap\r\n",
                "## Introduction\r\n",
                "- Uses EL**T** Paradigm\r\n",
                "    - Dataflows *then* Transformations\r\n",
                "- Transformations are Pure SQL with Optional Parameters\r\n",
                "- Primary usage is to Build Data Warehouse\r\n",
                "- Uses the SSIS Model of Projects, Packages, Connections, and Parameters\r\n",
                "- All configuration are in SQL Server (works with Express Edition)\r\n",
                "- Uses a Python runtime\r\n",
                ""
            ],
            "metadata": {
                "azdata_cell_guid": "481e6531-7403-4467-a754-d319f41690a4"
            }
        },
        {
            "cell_type": "markdown",
            "source": [
                "## Database Overview\r\n",
                "### Schema (browse)\r\n",
                "### Sample Project Data"
            ],
            "metadata": {
                "azdata_cell_guid": "94d607f8-8deb-4feb-99d4-ac119f1c189d"
            }
        },
        {
            "cell_type": "code",
            "source": [
                "select * from elt.project"
            ],
            "metadata": {
                "azdata_cell_guid": "37456ef2-42ac-4016-a83e-79cf521ab974"
            },
            "outputs": [],
            "execution_count": null
        },
        {
            "cell_type": "markdown",
            "source": [
                "### Sample Connection Data"
            ],
            "metadata": {
                "azdata_cell_guid": "486bffda-0a9d-4773-b1df-a1471c40e697"
            }
        },
        {
            "cell_type": "code",
            "source": [
                "select * from elt.oledb_connection"
            ],
            "metadata": {
                "azdata_cell_guid": "4d38f33b-e81b-4568-a39b-bfc14af48c37"
            },
            "outputs": [],
            "execution_count": null
        },
        {
            "cell_type": "markdown",
            "source": [
                "## Running a Project in ADS\r\n",
                ">Step 1 - Open a Terminal Window\r\n",
                "\r\n",
                ">Step 2 - Change to Runtime directory\r\n",
                "``` \r\n",
                "cd C:\\snap\\eltsnap\\python\\eltSnap_runtime_v2\r\n",
                "```\r\n",
                "\r\n",
                ">Step 3 - Copy and Paste Runtime Command for Project in Terminal\r\n",
                "```\r\n",
                "eltsnap_runtime_v2 -server \"localhost\" -database \"eltsnap_v2\" -project \"Log Clean-up\"\r\n",
                "```"
            ],
            "metadata": {
                "azdata_cell_guid": "9b1f1eac-f36f-4a9b-8a24-4ef7645a0283"
            }
        },
        {
            "cell_type": "markdown",
            "source": [
                "## Editing a Package in ADS\r\n",
                ">Step 1 - Open a New Query on the Connection where you want to Run (Package: lz to ods motor_vehicle_collisions)\r\n",
                "\r\n",
                ">Step 2 - Retrieve a Package Query using the Command Palette\r\n",
                "\r\n",
                ">Step 3 - Make Changes in SQL Editor\r\n",
                "\r\n",
                ">Step 4 - Save Package Query using the Command Palette"
            ],
            "metadata": {
                "azdata_cell_guid": "d3f733e9-9229-44dd-a47c-4c040df4354a"
            }
        },
        {
            "cell_type": "markdown",
            "source": [
                "## Demo - Python Snippets"
            ],
            "metadata": {
                "azdata_cell_guid": "75077ba6-3b56-41d6-88f5-f2908effb77a"
            }
        }
    ]
}