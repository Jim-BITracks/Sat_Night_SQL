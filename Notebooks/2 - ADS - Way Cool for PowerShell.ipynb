{
    "metadata": {
        "kernelspec": {
            "name": "powershell",
            "display_name": "PowerShell"
        },
        "language_info": {
            "name": "powershell",
            "codemirror_mode": "shell",
            "mimetype": "text/x-sh",
            "file_extension": ".ps1"
        }
    },
    "nbformat_minor": 2,
    "nbformat": 4,
    "cells": [
        {
            "cell_type": "markdown",
            "source": [
                "# PowerShell Notebook\r\n",
                "## Get Disk Information"
            ],
            "metadata": {
                "azdata_cell_guid": "0d104578-d566-488a-a13c-3426350ea309"
            }
        },
        {
            "cell_type": "code",
            "source": [
                "Get-WmiObject -Class Win32_logicaldisk"
            ],
            "metadata": {
                "azdata_cell_guid": "1be738ab-c493-4c4b-9b74-83a4c97cedfe",
                "tags": []
            },
            "outputs": [],
            "execution_count": null
        },
        {
            "cell_type": "markdown",
            "source": [
                "## Get Running Processes"
            ],
            "metadata": {
                "azdata_cell_guid": "22532df1-f236-48a2-b499-2b9f16ef137b"
            }
        },
        {
            "cell_type": "code",
            "source": [
                "Get-Process"
            ],
            "metadata": {
                "azdata_cell_guid": "0cd17e29-bb8b-4a39-b23f-39f96046628e"
            },
            "outputs": [],
            "execution_count": null
        }
    ]
}