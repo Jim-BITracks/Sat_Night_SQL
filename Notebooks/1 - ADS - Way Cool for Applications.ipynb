{
    "metadata": {
        "kernelspec": {
            "name": "SQL",
            "display_name": "SQL",
            "language": "sql"
        },
        "language_info": {
            "name": "sql",
            "version": ""
        }
    },
    "nbformat_minor": 2,
    "nbformat": 4,
    "cells": [
        {
            "cell_type": "markdown",
            "source": [
                "# Azure Data Studio - Way Cool for Applications\r\n",
                "## ADS Basics\r\n",
                "- **Not** just for Azure or the cloud\r\n",
                "- **Not** currently a replacement for SSMS\r\n",
                "- Fork of VS Code: https://github.com/microsoft/vscode\r\n",
                "- Open Source: https://github.com/microsoft/azuredatastudio\r\n",
                "- Cross Platform (Windows/Linux/MacOS)\r\n",
                "- Multi-Database (SQL Server, PostgreSQL) - On the way (mySQL, MariaDB)\r\n",
                "\r\n",
                "## Primary Features\r\n",
                "- Database Management / Querying / Visualizations\r\n",
                "- Code Editing (SQL, PowerShell, Python & more)\r\n",
                "- Snippet based code re-use (Predefined and User Customizable)\r\n",
                "- Juypter Notebooks (Markdown Text, Code, Query Results)\r\n",
                "- Integrated Terminal\r\n",
                "- Source Control (Git, TFS)\r\n",
                "- Big Data Clusters\r\n",
                "- Extensions Marketplace \r\n",
                "\r\n",
                ""
            ],
            "metadata": {
                "azdata_cell_guid": "fd5f7ce9-ab69-495e-9b6e-de44f0c46f10"
            }
        },
        {
            "cell_type": "markdown",
            "source": [
                "## Integrated Terminal Window\r\n",
                "### Interface for Command Prompt, PowerShell, and other CLI Tools\r\n",
                ">Step 1 - Run in 'Powershell' Terminal\r\n",
                "```PowerShell\r\n",
                "PowerShell\r\n",
                "Invoke-Sqlcmd -Query \"select * from INFORMATION_SCHEMA.TABLES\" -ServerInstance \"localhost\" -Database \"eltsnap_v2\"\r\n",
                "```\r\n",
                ">Step 2 - Run the same query with Export to HTML\r\n",
                "```PowerShell\r\n",
                "Invoke-Sqlcmd -Query \"select * from INFORMATION_SCHEMA.TABLES\" -ServerInstance \"localhost\" -Database \"eltsnap_v2\" | convertto-html > table_list.htm\r\n",
                "Invoke-Item $$\r\n",
                "```"
            ],
            "metadata": {
                "azdata_cell_guid": "0330b0a2-188a-43e7-849d-df60a0b0f353"
            }
        },
        {
            "cell_type": "markdown",
            "source": [
                "## Demo - PowerShell Notebook"
            ],
            "metadata": {
                "azdata_cell_guid": "fe9aa43d-c780-4f8f-b828-c6d97c32cfaa"
            }
        }
    ]
}