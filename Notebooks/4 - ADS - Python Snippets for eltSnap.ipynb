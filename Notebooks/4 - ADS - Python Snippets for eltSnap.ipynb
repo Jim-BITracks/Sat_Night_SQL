{
    "metadata": {
        "kernelspec": {
            "name": "python3",
            "display_name": "Python 3"
        },
        "language_info": {
            "name": "python",
            "version": "3.8.1",
            "mimetype": "text/x-python",
            "codemirror_mode": {
                "name": "ipython",
                "version": 3
            },
            "pygments_lexer": "ipython3",
            "nbconvert_exporter": "python",
            "file_extension": ".py"
        }
    },
    "nbformat_minor": 2,
    "nbformat": 4,
    "cells": [
        {
            "cell_type": "markdown",
            "source": [
                "# Python Snippets for eltSnap\r\n",
                "## Create a Project\r\n",
                "> Called: Sat Night SQL"
            ],
            "metadata": {
                "azdata_cell_guid": "79eeb103-9641-47c9-af7e-a90ace31b135"
            }
        },
        {
            "cell_type": "code",
            "source": [
                "from eltsnap.eltProject import *\n",
                "create_project('PC7', 'eltsnap_v2', 'test', 'Framework Logging')"
            ],
            "metadata": {
                "azdata_cell_guid": "4987ba90-035d-47cd-bb26-4eb22267dde3"
            },
            "outputs": [
{
    "name": "stdout",
    "text": "Succesfully created project with id 1001 !\n",
    "output_type": "stream"
}, {
    "name": "stdout",
    "text": "The HTML file destination is on the location : C:\\snap\\html\\eltSnap_Project_HTML.html\n  project_id  project_name                   build_template_group\n------------  -----------------------------  ----------------------\n           5  Log Clean-up                   No Framework\n           1  Metadata Refresh               Framework Logging\n           4  Metadata Refresh (AzureSQL)    Framework Logging\n           3  Metadata Refresh (PostgreSQL)  Framework Logging\n           2  Metadata Refresh (Snowflake)   Framework Logging\n        1001  test                           Framework Logging\n",
    "output_type": "stream"
}
],
            "execution_count": 1
        },
        {
            "cell_type": "markdown",
            "source": [
                "## Create a Connection\r\n",
                "\r\n",
                ">Called: 'sat_night_sql'\r\n",
                ""
            ],
            "metadata": {
                "azdata_cell_guid": "924abc4d-20ad-45c8-a4de-519fac680c67"
            }
        },
        {
            "cell_type": "code",
            "source": [
                "from eltsnap.eltProject import *\r\n",
                "create_data_connection('PC7', 'eltsnap_v2',\r\n",
                "'sat_night_sql', \r\n",
                "'localhost', \r\n",
                "'sat_night_sql', \r\n",
                "'SQLNCLI11',\r\n",
                "'Sat Night SQL', \r\n",
                "'custom connection string (optional)')"
            ],
            "metadata": {
                "azdata_cell_guid": "053aca2d-77e9-4633-8c74-232db083c046"
            },
            "outputs": [],
            "execution_count": null
        },
        {
            "cell_type": "markdown",
            "source": [
                "## Create eltSnap Package\r\n",
                ">Switch to Front-end (due to bug in snippet)\r\n",
                "```sql\r\n",
                "drop table if exists dbo.files\r\n",
                "select * into dbo.files from sys.database_files\r\n",
                "```"
            ],
            "metadata": {
                "azdata_cell_guid": "0020fed3-971e-4753-b8cc-cba4fe7dcf53"
            }
        },
        {
            "cell_type": "markdown",
            "source": [
                "## Run 'Sat Night SQL' Project in Terminal\r\n",
                "```\r\n",
                "eltsnap_runtime_v2 -server \"localhost\" -database \"eltsnap_v2\" -project \"sat night sql\"\r\n",
                "```"
            ],
            "metadata": {
                "azdata_cell_guid": "7488e3fa-608b-42bb-8b16-a263600c65f2"
            }
        },
        {
            "cell_type": "markdown",
            "source": [
                "## Use Command Palette to Edit eltSnap Connections"
            ],
            "metadata": {
                "azdata_cell_guid": "3886ae35-a24b-4c7e-9554-d4e6d69c78cc"
            }
        }
    ]
}