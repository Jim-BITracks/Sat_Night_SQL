{
    "metadata": {
        "kernelspec": {
            "name": "SQL",
            "display_name": "SQL",
            "language": "sql"
        },
        "language_info": {
            "name": "sql",
            "version": ""
        }
    },
    "nbformat_minor": 2,
    "nbformat": 4,
    "cells": [
        {
            "cell_type": "markdown",
            "source": [
                "# Azure Data Studio - Way Cool for Azure and On-Prem SQL\r\n",
                "## ADS Basics\r\n",
                "- **Not** just for Azure or the cloud\r\n",
                "- Fork of VS Code: https://github.com/microsoft/vscode\r\n",
                "- Open Source: https://github.com/microsoft/azuredatastudio\r\n",
                "- Cross Platform (Windows/Linux/MacOS)\r\n",
                "- Multi-Database (SQL Server, PostgreSQL) - On the way (mySQL, MariaDB)\r\n",
                "\r\n",
                "## Primary Features\r\n",
                "- Database Management / Querying / Visualizations\r\n",
                "- Code Editing (SQL, PowerShell, Python & more)\r\n",
                "- Snippets (Predefined and User Customizable)\r\n",
                "- Juypter Notebooks (Markdown Text, Code, Query Results)\r\n",
                "- Integrated Terminal\r\n",
                "- Source Control (Git, TFS)\r\n",
                "- Big Data Clusters\r\n",
                "- Extensions Marketplace \r\n",
                "\r\n",
                ""
            ],
            "metadata": {
                "azdata_cell_guid": "fd5f7ce9-ab69-495e-9b6e-de44f0c46f10"
            }
        },
        {
            "cell_type": "markdown",
            "source": [
                "## Demo - Connections\r\n",
                "Using 'Activity Bar', and 'Side Bar'\r\n",
                "\r\n",
                ">Step 1 - Create a New Connection\r\n",
                "\r\n",
                ">Step 2 - Place in Group"
            ],
            "metadata": {
                "azdata_cell_guid": "a60fda97-5af8-4929-968a-30dc5edca9ff"
            }
        },
        {
            "cell_type": "markdown",
            "source": [
                "## Demo - Built-in Snippets\r\n",
                "### Get space used by table: F_COLLISIONS\r\n",
                ">Search: sqlspace"
            ],
            "metadata": {
                "azdata_cell_guid": "28320595-f1c4-4bdc-86a8-aa636be238e5"
            }
        },
        {
            "cell_type": "code",
            "source": [
                "-- Get the space used by table TableName\r\n",
                "SELECT TABL.name AS table_name,\r\n",
                "INDX.name AS index_name,\r\n",
                "SUM(PART.rows) AS rows_count,\r\n",
                "SUM(ALOC.total_pages) AS total_pages,\r\n",
                "SUM(ALOC.used_pages) AS used_pages,\r\n",
                "SUM(ALOC.data_pages) AS data_pages,\r\n",
                "(SUM(ALOC.total_pages)*8/1024) AS total_space_MB,\r\n",
                "(SUM(ALOC.used_pages)*8/1024) AS used_space_MB,\r\n",
                "(SUM(ALOC.data_pages)*8/1024) AS data_space_MB\r\n",
                "FROM sys.tables AS TABL\r\n",
                "INNER JOIN sys.indexes AS INDX\r\n",
                "ON TABL.object_id = INDX.object_id\r\n",
                "INNER JOIN sys.partitions AS PART\r\n",
                "ON INDX.object_id = PART.object_id\r\n",
                "AND INDX.index_id = PART.index_id\r\n",
                "INNER JOIN sys.allocation_units AS ALOC\r\n",
                "ON PART.partition_id = ALOC.container_id\r\n",
                "WHERE TABL.name = 'F_COLLISIONS'\r\n",
                "AND INDX.object_id > 255\r\n",
                "AND INDX.index_id <= 1\r\n",
                "GROUP BY TABL.name, \r\n",
                "INDX.object_id,\r\n",
                "INDX.index_id,\r\n",
                "INDX.name\r\n",
                "ORDER BY Object_Name(INDX.object_id),\r\n",
                "(SUM(ALOC.total_pages)*8/1024) DESC;"
            ],
            "metadata": {
                "azdata_cell_guid": "8a337320-de45-4b66-bf44-3d6e77aec407"
            },
            "outputs": [
                {
                    "output_type": "display_data",
                    "data": {
                        "text/html": "(1 row affected)"
                    },
                    "metadata": {}
                },
                {
                    "output_type": "display_data",
                    "data": {
                        "text/html": "Total execution time: 00:00:00.180"
                    },
                    "metadata": {}
                },
                {
                    "output_type": "execute_result",
                    "execution_count": 1,
                    "data": {
                        "application/vnd.dataresource+json": {
                            "schema": {
                                "fields": [
                                    {
                                        "name": "table_name"
                                    },
                                    {
                                        "name": "index_name"
                                    },
                                    {
                                        "name": "rows_count"
                                    },
                                    {
                                        "name": "total_pages"
                                    },
                                    {
                                        "name": "used_pages"
                                    },
                                    {
                                        "name": "data_pages"
                                    },
                                    {
                                        "name": "total_space_MB"
                                    },
                                    {
                                        "name": "used_space_MB"
                                    },
                                    {
                                        "name": "data_space_MB"
                                    }
                                ]
                            },
                            "data": [
                                {
                                    "0": "F_COLLISIONS",
                                    "1": "NULL",
                                    "2": "1660957",
                                    "3": "12401",
                                    "4": "12397",
                                    "5": "12396",
                                    "6": "96",
                                    "7": "96",
                                    "8": "96"
                                }
                            ]
                        },
                        "text/html": "<table><tr><th>table_name</th><th>index_name</th><th>rows_count</th><th>total_pages</th><th>used_pages</th><th>data_pages</th><th>total_space_MB</th><th>used_space_MB</th><th>data_space_MB</th></tr><tr><td>F_COLLISIONS</td><td>NULL</td><td>1660957</td><td>12401</td><td>12397</td><td>12396</td><td>96</td><td>96</td><td>96</td></tr></table>"
                    },
                    "metadata": {}
                }
            ],
            "execution_count": 1
        },
        {
            "cell_type": "markdown",
            "source": [
                "## Demo - Create user Snippets\r\n",
                "### Get space used by table: F_COLLISIONS\r\n",
                "\r\n",
                ">Step 1 - Create Custom SQL Snippet (List Tables)\r\n",
                "\r\n",
                "```sql\r\n",
                "select * from INFORMATION_SCHEMA.TABLES where TABLE_NAME LIKE '%$1%'\r\n",
                "```\r\n",
                "\r\n",
                ">Step 2 - Place in SQL User Snippets Json file\r\n",
                "\r\n",
                ">Step 3 - Find in SQL editor (or notebook code block)"
            ],
            "metadata": {
                "azdata_cell_guid": "26679adc-9318-4abb-a48e-c89dd1ae4d11"
            }
        },
        {
            "cell_type": "code",
            "source": [
                "list"
            ],
            "metadata": {
                "azdata_cell_guid": "ac3d8de8-9109-45b9-9d73-9ee7b40b2339"
            },
            "outputs": [],
            "execution_count": null
        },
        {
            "cell_type": "markdown",
            "source": [
                "## Demo - Create a Visualization\r\n",
                "### Get space used by table: F_COLLISIONS\r\n",
                ">Step 1 - Run Query in 'SQL Query' Window\r\n",
                "\r\n",
                ">Step 2 - Use 'Sand Dance' Visualization *Extension*"
            ],
            "metadata": {
                "azdata_cell_guid": "010780c7-4ca2-46e3-9d25-1bbc0577b667"
            }
        },
        {
            "cell_type": "code",
            "source": [
                "SELECT year(c.[DATE_KEY]) AS [Year]\r\n",
                "     , l.[BOROUGH]\r\n",
                "     , sum(c.[NUMBER_OF_PERSONS_INJURED]) AS [Total Injuries]\r\n",
                "  FROM [edw].[F_COLLISIONS] c\r\n",
                "  JOIN [edw].[D_LOCATION] l\r\n",
                "    on l.[LOCATION_ID] = c.[LOCATION_ID]\r\n",
                " WHERE l.[BOROUGH] IS NOT NULL\r\n",
                " GROUP BY year([DATE_KEY]), l.[BOROUGH]\r\n",
                ""
            ],
            "metadata": {
                "azdata_cell_guid": "9fac2001-4aee-4a2d-8052-d022d9c0be87",
                "tags": []
            },
            "outputs": [
                {
                    "output_type": "display_data",
                    "data": {
                        "text/html": "Warning: Null value is eliminated by an aggregate or other SET operation."
                    },
                    "metadata": {}
                },
                {
                    "output_type": "display_data",
                    "data": {
                        "text/html": "(45 rows affected)"
                    },
                    "metadata": {}
                },
                {
                    "output_type": "display_data",
                    "data": {
                        "text/html": "Total execution time: 00:00:01.003"
                    },
                    "metadata": {}
                },
                {
                    "output_type": "execute_result",
                    "execution_count": 4,
                    "data": {
                        "application/vnd.dataresource+json": {
                            "schema": {
                                "fields": [
                                    {
                                        "name": "Year"
                                    },
                                    {
                                        "name": "BOROUGH"
                                    },
                                    {
                                        "name": "Total Injuries"
                                    }
                                ]
                            },
                            "data": [
                                {
                                    "0": "2016",
                                    "1": "MANHATTAN",
                                    "2": "6604"
                                },
                                {
                                    "0": "2019",
                                    "1": "STATEN ISLAND",
                                    "2": "1693"
                                },
                                {
                                    "0": "2020",
                                    "1": "BROOKLYN",
                                    "2": "2204"
                                },
                                {
                                    "0": "2018",
                                    "1": "QUEENS",
                                    "2": "13188"
                                },
                                {
                                    "0": "2014",
                                    "1": "STATEN ISLAND",
                                    "2": "1577"
                                },
                                {
                                    "0": "2015",
                                    "1": "BROOKLYN",
                                    "2": "13749"
                                },
                                {
                                    "0": "2013",
                                    "1": "QUEENS",
                                    "2": "10910"
                                },
                                {
                                    "0": "2012",
                                    "1": "STATEN ISLAND",
                                    "2": "1245"
                                },
                                {
                                    "0": "2017",
                                    "1": "BRONX",
                                    "2": "7068"
                                },
                                {
                                    "0": "2013",
                                    "1": "BROOKLYN",
                                    "2": "15431"
                                },
                                {
                                    "0": "2012",
                                    "1": "BRONX",
                                    "2": "2981"
                                },
                                {
                                    "0": "2020",
                                    "1": "QUEENS",
                                    "2": "1925"
                                },
                                {
                                    "0": "2017",
                                    "1": "BROOKLYN",
                                    "2": "15217"
                                },
                                {
                                    "0": "2019",
                                    "1": "MANHATTAN",
                                    "2": "7156"
                                },
                                {
                                    "0": "2016",
                                    "1": "QUEENS",
                                    "2": "11940"
                                },
                                {
                                    "0": "2017",
                                    "1": "STATEN ISLAND",
                                    "2": "1853"
                                },
                                {
                                    "0": "2012",
                                    "1": "BROOKLYN",
                                    "2": "7527"
                                },
                                {
                                    "0": "2019",
                                    "1": "BRONX",
                                    "2": "7417"
                                },
                                {
                                    "0": "2012",
                                    "1": "MANHATTAN",
                                    "2": "3876"
                                },
                                {
                                    "0": "2014",
                                    "1": "QUEENS",
                                    "2": "10306"
                                },
                                {
                                    "0": "2014",
                                    "1": "BRONX",
                                    "2": "5997"
                                },
                                {
                                    "0": "2019",
                                    "1": "BROOKLYN",
                                    "2": "16038"
                                },
                                {
                                    "0": "2015",
                                    "1": "STATEN ISLAND",
                                    "2": "1560"
                                },
                                {
                                    "0": "2014",
                                    "1": "MANHATTAN",
                                    "2": "6951"
                                },
                                {
                                    "0": "2016",
                                    "1": "BRONX",
                                    "2": "6261"
                                },
                                {
                                    "0": "2012",
                                    "1": "QUEENS",
                                    "2": "5630"
                                },
                                {
                                    "0": "2019",
                                    "1": "QUEENS",
                                    "2": "13187"
                                },
                                {
                                    "0": "2015",
                                    "1": "MANHATTAN",
                                    "2": "6577"
                                },
                                {
                                    "0": "2020",
                                    "1": "STATEN ISLAND",
                                    "2": "254"
                                },
                                {
                                    "0": "2018",
                                    "1": "STATEN ISLAND",
                                    "2": "1683"
                                },
                                {
                                    "0": "2017",
                                    "1": "MANHATTAN",
                                    "2": "7341"
                                },
                                {
                                    "0": "2013",
                                    "1": "STATEN ISLAND",
                                    "2": "2111"
                                },
                                {
                                    "0": "2014",
                                    "1": "BROOKLYN",
                                    "2": "14267"
                                },
                                {
                                    "0": "2018",
                                    "1": "BRONX",
                                    "2": "7344"
                                },
                                {
                                    "0": "2013",
                                    "1": "MANHATTAN",
                                    "2": "7630"
                                },
                                {
                                    "0": "2013",
                                    "1": "BRONX",
                                    "2": "6421"
                                },
                                {
                                    "0": "2015",
                                    "1": "QUEENS",
                                    "2": "10737"
                                },
                                {
                                    "0": "2018",
                                    "1": "BROOKLYN",
                                    "2": "16759"
                                },
                                {
                                    "0": "2018",
                                    "1": "MANHATTAN",
                                    "2": "7247"
                                },
                                {
                                    "0": "2020",
                                    "1": "BRONX",
                                    "2": "1099"
                                },
                                {
                                    "0": "2020",
                                    "1": "MANHATTAN",
                                    "2": "917"
                                },
                                {
                                    "0": "2016",
                                    "1": "BROOKLYN",
                                    "2": "13950"
                                },
                                {
                                    "0": "2015",
                                    "1": "BRONX",
                                    "2": "5818"
                                },
                                {
                                    "0": "2016",
                                    "1": "STATEN ISLAND",
                                    "2": "1629"
                                },
                                {
                                    "0": "2017",
                                    "1": "QUEENS",
                                    "2": "12395"
                                }
                            ]
                        },
                        "text/html": "<table><tr><th>Year</th><th>BOROUGH</th><th>Total Injuries</th></tr><tr><td>2016</td><td>MANHATTAN</td><td>6604</td></tr><tr><td>2019</td><td>STATEN ISLAND</td><td>1693</td></tr><tr><td>2020</td><td>BROOKLYN</td><td>2204</td></tr><tr><td>2018</td><td>QUEENS</td><td>13188</td></tr><tr><td>2014</td><td>STATEN ISLAND</td><td>1577</td></tr><tr><td>2015</td><td>BROOKLYN</td><td>13749</td></tr><tr><td>2013</td><td>QUEENS</td><td>10910</td></tr><tr><td>2012</td><td>STATEN ISLAND</td><td>1245</td></tr><tr><td>2017</td><td>BRONX</td><td>7068</td></tr><tr><td>2013</td><td>BROOKLYN</td><td>15431</td></tr><tr><td>2012</td><td>BRONX</td><td>2981</td></tr><tr><td>2020</td><td>QUEENS</td><td>1925</td></tr><tr><td>2017</td><td>BROOKLYN</td><td>15217</td></tr><tr><td>2019</td><td>MANHATTAN</td><td>7156</td></tr><tr><td>2016</td><td>QUEENS</td><td>11940</td></tr><tr><td>2017</td><td>STATEN ISLAND</td><td>1853</td></tr><tr><td>2012</td><td>BROOKLYN</td><td>7527</td></tr><tr><td>2019</td><td>BRONX</td><td>7417</td></tr><tr><td>2012</td><td>MANHATTAN</td><td>3876</td></tr><tr><td>2014</td><td>QUEENS</td><td>10306</td></tr><tr><td>2014</td><td>BRONX</td><td>5997</td></tr><tr><td>2019</td><td>BROOKLYN</td><td>16038</td></tr><tr><td>2015</td><td>STATEN ISLAND</td><td>1560</td></tr><tr><td>2014</td><td>MANHATTAN</td><td>6951</td></tr><tr><td>2016</td><td>BRONX</td><td>6261</td></tr><tr><td>2012</td><td>QUEENS</td><td>5630</td></tr><tr><td>2019</td><td>QUEENS</td><td>13187</td></tr><tr><td>2015</td><td>MANHATTAN</td><td>6577</td></tr><tr><td>2020</td><td>STATEN ISLAND</td><td>254</td></tr><tr><td>2018</td><td>STATEN ISLAND</td><td>1683</td></tr><tr><td>2017</td><td>MANHATTAN</td><td>7341</td></tr><tr><td>2013</td><td>STATEN ISLAND</td><td>2111</td></tr><tr><td>2014</td><td>BROOKLYN</td><td>14267</td></tr><tr><td>2018</td><td>BRONX</td><td>7344</td></tr><tr><td>2013</td><td>MANHATTAN</td><td>7630</td></tr><tr><td>2013</td><td>BRONX</td><td>6421</td></tr><tr><td>2015</td><td>QUEENS</td><td>10737</td></tr><tr><td>2018</td><td>BROOKLYN</td><td>16759</td></tr><tr><td>2018</td><td>MANHATTAN</td><td>7247</td></tr><tr><td>2020</td><td>BRONX</td><td>1099</td></tr><tr><td>2020</td><td>MANHATTAN</td><td>917</td></tr><tr><td>2016</td><td>BROOKLYN</td><td>13950</td></tr><tr><td>2015</td><td>BRONX</td><td>5818</td></tr><tr><td>2016</td><td>STATEN ISLAND</td><td>1629</td></tr><tr><td>2017</td><td>QUEENS</td><td>12395</td></tr></table>"
                    },
                    "metadata": {}
                }
            ],
            "execution_count": 4
        },
        {
            "cell_type": "markdown",
            "source": [
                "## Integrated Terminal Window\r\n",
                "### Interface for Command Prompt, PowerShell, and other CLI Tools\r\n",
                ">Step 1 - Run in 'Powershell' Terminal\r\n",
                "```PowerShell\r\n",
                "PowerShell\r\n",
                "Invoke-Sqlcmd -Query \"select * from INFORMATION_SCHEMA.TABLES\" -ServerInstance \"localhost\" -Database \"eltsnap_v2\"\r\n",
                "```\r\n",
                ">Step 2 - Run the same query with Export to HTML\r\n",
                "```PowerShell\r\n",
                "Invoke-Sqlcmd -Query \"select * from INFORMATION_SCHEMA.TABLES\" -ServerInstance \"localhost\" -Database \"eltsnap_v2\" | convertto-html > table_list.htm\r\n",
                "Invoke-Item $$\r\n",
                "```"
            ],
            "metadata": {
                "azdata_cell_guid": "0330b0a2-188a-43e7-849d-df60a0b0f353"
            }
        },
        {
            "cell_type": "markdown",
            "source": [
                "## Demo - PowerShell Notebook"
            ],
            "metadata": {
                "azdata_cell_guid": "fe9aa43d-c780-4f8f-b828-c6d97c32cfaa"
            }
        }
    ]
}